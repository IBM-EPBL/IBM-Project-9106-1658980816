{
 "cells": [
  {
   "cell_type": "markdown",
   "id": "832664cf",
   "metadata": {},
   "source": [
    "# Train and Test IBM Cloud Model"
   ]
  },
  {
   "cell_type": "code",
   "execution_count": 1,
   "id": "1a511375",
   "metadata": {},
   "outputs": [
    {
     "name": "stdout",
     "output_type": "stream",
     "text": [
      "Collecting watson-machine-learning-client\n",
      "  Downloading watson_machine_learning_client-1.0.391-py3-none-any.whl (538 kB)\n",
      "     ------------------------------------ 538.9/538.9 kB 786.7 kB/s eta 0:00:00\n",
      "Requirement already satisfied: pandas in c:\\users\\suvi\\appdata\\local\\programs\\python\\python310\\lib\\site-packages (from watson-machine-learning-client) (1.4.2)\n",
      "Collecting lomond\n",
      "  Downloading lomond-0.3.3-py2.py3-none-any.whl (35 kB)\n",
      "Collecting ibm-cos-sdk\n",
      "  Downloading ibm-cos-sdk-2.12.0.tar.gz (55 kB)\n",
      "     -------------------------------------- 55.6/55.6 kB 966.1 kB/s eta 0:00:00\n",
      "  Preparing metadata (setup.py): started\n",
      "  Preparing metadata (setup.py): finished with status 'done'\n",
      "Requirement already satisfied: tqdm in c:\\users\\suvi\\appdata\\local\\programs\\python\\python310\\lib\\site-packages (from watson-machine-learning-client) (4.63.1)\n",
      "Collecting tabulate\n",
      "  Downloading tabulate-0.9.0-py3-none-any.whl (35 kB)\n",
      "Collecting boto3\n",
      "  Downloading boto3-1.26.10-py3-none-any.whl (132 kB)\n",
      "     ------------------------------------ 132.5/132.5 kB 325.9 kB/s eta 0:00:00\n",
      "Requirement already satisfied: urllib3 in c:\\users\\suvi\\appdata\\local\\programs\\python\\python310\\lib\\site-packages (from watson-machine-learning-client) (1.26.9)\n",
      "Requirement already satisfied: requests in c:\\users\\suvi\\appdata\\local\\programs\\python\\python310\\lib\\site-packages (from watson-machine-learning-client) (2.27.1)\n",
      "Requirement already satisfied: certifi in c:\\users\\suvi\\appdata\\local\\programs\\python\\python310\\lib\\site-packages (from watson-machine-learning-client) (2021.10.8)\n",
      "Collecting s3transfer<0.7.0,>=0.6.0\n",
      "  Downloading s3transfer-0.6.0-py3-none-any.whl (79 kB)\n",
      "     -------------------------------------- 79.6/79.6 kB 341.5 kB/s eta 0:00:00\n",
      "Collecting jmespath<2.0.0,>=0.7.1\n",
      "  Downloading jmespath-1.0.1-py3-none-any.whl (20 kB)\n",
      "Collecting botocore<1.30.0,>=1.29.10\n",
      "  Downloading botocore-1.29.10-py3-none-any.whl (9.9 MB)\n",
      "     ---------------------------------------- 9.9/9.9 MB 2.3 MB/s eta 0:00:00\n",
      "Collecting ibm-cos-sdk-core==2.12.0\n",
      "  Downloading ibm-cos-sdk-core-2.12.0.tar.gz (956 kB)\n",
      "     -------------------------------------- 956.8/956.8 kB 1.7 MB/s eta 0:00:00\n",
      "  Preparing metadata (setup.py): started\n",
      "  Preparing metadata (setup.py): finished with status 'done'\n",
      "Collecting ibm-cos-sdk-s3transfer==2.12.0\n",
      "  Downloading ibm-cos-sdk-s3transfer-2.12.0.tar.gz (135 kB)\n",
      "     -------------------------------------- 135.7/135.7 kB 2.7 MB/s eta 0:00:00\n",
      "  Preparing metadata (setup.py): started\n",
      "  Preparing metadata (setup.py): finished with status 'done'\n",
      "Collecting jmespath<2.0.0,>=0.7.1\n",
      "  Downloading jmespath-0.10.0-py2.py3-none-any.whl (24 kB)\n",
      "Requirement already satisfied: python-dateutil<3.0.0,>=2.8.2 in c:\\users\\suvi\\appdata\\local\\programs\\python\\python310\\lib\\site-packages (from ibm-cos-sdk-core==2.12.0->ibm-cos-sdk->watson-machine-learning-client) (2.8.2)\n",
      "Requirement already satisfied: idna<4,>=2.5 in c:\\users\\suvi\\appdata\\local\\programs\\python\\python310\\lib\\site-packages (from requests->watson-machine-learning-client) (3.3)\n",
      "Requirement already satisfied: charset-normalizer~=2.0.0 in c:\\users\\suvi\\appdata\\local\\programs\\python\\python310\\lib\\site-packages (from requests->watson-machine-learning-client) (2.0.12)\n",
      "Requirement already satisfied: six>=1.10.0 in c:\\users\\suvi\\appdata\\local\\programs\\python\\python310\\lib\\site-packages (from lomond->watson-machine-learning-client) (1.16.0)\n",
      "Requirement already satisfied: pytz>=2020.1 in c:\\users\\suvi\\appdata\\local\\programs\\python\\python310\\lib\\site-packages (from pandas->watson-machine-learning-client) (2022.1)\n",
      "Requirement already satisfied: numpy>=1.21.0 in c:\\users\\suvi\\appdata\\local\\programs\\python\\python310\\lib\\site-packages (from pandas->watson-machine-learning-client) (1.22.3)\n",
      "Requirement already satisfied: colorama in c:\\users\\suvi\\appdata\\local\\programs\\python\\python310\\lib\\site-packages (from tqdm->watson-machine-learning-client) (0.4.4)\n",
      "Building wheels for collected packages: ibm-cos-sdk, ibm-cos-sdk-core, ibm-cos-sdk-s3transfer\n",
      "  Building wheel for ibm-cos-sdk (setup.py): started\n",
      "  Building wheel for ibm-cos-sdk (setup.py): finished with status 'done'\n",
      "  Created wheel for ibm-cos-sdk: filename=ibm_cos_sdk-2.12.0-py3-none-any.whl size=73930 sha256=5e74eef33c6f742b3bf08ba13f62eac3d5a015fdcc70125ee8075c5afe31d181\n",
      "  Stored in directory: c:\\users\\suvi\\appdata\\local\\pip\\cache\\wheels\\53\\89\\f8\\e1f16b3874af57e2253ee18a43804db6879c3aa22c58d91b82\n",
      "  Building wheel for ibm-cos-sdk-core (setup.py): started\n",
      "  Building wheel for ibm-cos-sdk-core (setup.py): finished with status 'done'\n",
      "  Created wheel for ibm-cos-sdk-core: filename=ibm_cos_sdk_core-2.12.0-py3-none-any.whl size=562962 sha256=c635caa911018f063edd05d6b1a8e6f563198a88483bcaaf99bfff566082eed0\n",
      "  Stored in directory: c:\\users\\suvi\\appdata\\local\\pip\\cache\\wheels\\72\\24\\c4\\b930b91571fe120c206726f2055a26c95ae9fa323763d42b63\n",
      "  Building wheel for ibm-cos-sdk-s3transfer (setup.py): started\n",
      "  Building wheel for ibm-cos-sdk-s3transfer (setup.py): finished with status 'done'\n",
      "  Created wheel for ibm-cos-sdk-s3transfer: filename=ibm_cos_sdk_s3transfer-2.12.0-py3-none-any.whl size=89778 sha256=20589b494004d9152e9e4f1d91fbc82d44c7e0e5a23e922b58981ab67c257c80\n",
      "  Stored in directory: c:\\users\\suvi\\appdata\\local\\pip\\cache\\wheels\\3f\\bf\\b6\\4c18868ed27b686342eab42be15f0c0ac136d2dd9fb86b6aa8\n",
      "Successfully built ibm-cos-sdk ibm-cos-sdk-core ibm-cos-sdk-s3transfer\n",
      "Installing collected packages: tabulate, lomond, jmespath, ibm-cos-sdk-core, botocore, s3transfer, ibm-cos-sdk-s3transfer, ibm-cos-sdk, boto3, watson-machine-learning-client\n",
      "Successfully installed boto3-1.26.10 botocore-1.29.10 ibm-cos-sdk-2.12.0 ibm-cos-sdk-core-2.12.0 ibm-cos-sdk-s3transfer-2.12.0 jmespath-0.10.0 lomond-0.3.3 s3transfer-0.6.0 tabulate-0.9.0 watson-machine-learning-client-1.0.391\n"
     ]
    }
   ],
   "source": [
    "!pip install watson-machine-learning-client --upgrade"
   ]
  },
  {
   "cell_type": "code",
   "execution_count": 3,
   "id": "60ec81c2",
   "metadata": {},
   "outputs": [
    {
     "name": "stdout",
     "output_type": "stream",
     "text": [
      "Collecting ibm_watson_machine_learning\n",
      "  Downloading ibm_watson_machine_learning-1.0.257-py3-none-any.whl (1.8 MB)\n",
      "     ---------------------------------------- 1.8/1.8 MB 960.4 kB/s eta 0:00:00\n",
      "Requirement already satisfied: packaging in c:\\users\\suvi\\appdata\\local\\programs\\python\\python310\\lib\\site-packages (from ibm_watson_machine_learning) (21.3)\n",
      "Requirement already satisfied: urllib3 in c:\\users\\suvi\\appdata\\local\\programs\\python\\python310\\lib\\site-packages (from ibm_watson_machine_learning) (1.26.9)\n",
      "Collecting importlib-metadata\n",
      "  Downloading importlib_metadata-5.0.0-py3-none-any.whl (21 kB)\n",
      "Requirement already satisfied: requests in c:\\users\\suvi\\appdata\\local\\programs\\python\\python310\\lib\\site-packages (from ibm_watson_machine_learning) (2.27.1)\n",
      "Requirement already satisfied: certifi in c:\\users\\suvi\\appdata\\local\\programs\\python\\python310\\lib\\site-packages (from ibm_watson_machine_learning) (2021.10.8)\n",
      "Requirement already satisfied: ibm-cos-sdk==2.12.* in c:\\users\\suvi\\appdata\\local\\programs\\python\\python310\\lib\\site-packages (from ibm_watson_machine_learning) (2.12.0)\n",
      "Requirement already satisfied: lomond in c:\\users\\suvi\\appdata\\local\\programs\\python\\python310\\lib\\site-packages (from ibm_watson_machine_learning) (0.3.3)\n",
      "Requirement already satisfied: tabulate in c:\\users\\suvi\\appdata\\local\\programs\\python\\python310\\lib\\site-packages (from ibm_watson_machine_learning) (0.9.0)\n",
      "Requirement already satisfied: pandas<1.5.0,>=0.24.2 in c:\\users\\suvi\\appdata\\local\\programs\\python\\python310\\lib\\site-packages (from ibm_watson_machine_learning) (1.4.2)\n",
      "Requirement already satisfied: ibm-cos-sdk-core==2.12.0 in c:\\users\\suvi\\appdata\\local\\programs\\python\\python310\\lib\\site-packages (from ibm-cos-sdk==2.12.*->ibm_watson_machine_learning) (2.12.0)\n",
      "Requirement already satisfied: jmespath<1.0.0,>=0.10.0 in c:\\users\\suvi\\appdata\\local\\programs\\python\\python310\\lib\\site-packages (from ibm-cos-sdk==2.12.*->ibm_watson_machine_learning) (0.10.0)\n",
      "Requirement already satisfied: ibm-cos-sdk-s3transfer==2.12.0 in c:\\users\\suvi\\appdata\\local\\programs\\python\\python310\\lib\\site-packages (from ibm-cos-sdk==2.12.*->ibm_watson_machine_learning) (2.12.0)\n",
      "Requirement already satisfied: python-dateutil<3.0.0,>=2.8.2 in c:\\users\\suvi\\appdata\\local\\programs\\python\\python310\\lib\\site-packages (from ibm-cos-sdk-core==2.12.0->ibm-cos-sdk==2.12.*->ibm_watson_machine_learning) (2.8.2)\n",
      "Requirement already satisfied: numpy>=1.21.0 in c:\\users\\suvi\\appdata\\local\\programs\\python\\python310\\lib\\site-packages (from pandas<1.5.0,>=0.24.2->ibm_watson_machine_learning) (1.22.3)\n",
      "Requirement already satisfied: pytz>=2020.1 in c:\\users\\suvi\\appdata\\local\\programs\\python\\python310\\lib\\site-packages (from pandas<1.5.0,>=0.24.2->ibm_watson_machine_learning) (2022.1)\n",
      "Requirement already satisfied: idna<4,>=2.5 in c:\\users\\suvi\\appdata\\local\\programs\\python\\python310\\lib\\site-packages (from requests->ibm_watson_machine_learning) (3.3)\n",
      "Requirement already satisfied: charset-normalizer~=2.0.0 in c:\\users\\suvi\\appdata\\local\\programs\\python\\python310\\lib\\site-packages (from requests->ibm_watson_machine_learning) (2.0.12)\n",
      "Collecting zipp>=0.5\n",
      "  Downloading zipp-3.10.0-py3-none-any.whl (6.2 kB)\n",
      "Requirement already satisfied: six>=1.10.0 in c:\\users\\suvi\\appdata\\local\\programs\\python\\python310\\lib\\site-packages (from lomond->ibm_watson_machine_learning) (1.16.0)\n",
      "Requirement already satisfied: pyparsing!=3.0.5,>=2.0.2 in c:\\users\\suvi\\appdata\\local\\programs\\python\\python310\\lib\\site-packages (from packaging->ibm_watson_machine_learning) (3.0.7)\n",
      "Installing collected packages: zipp, importlib-metadata, ibm_watson_machine_learning\n",
      "Successfully installed ibm_watson_machine_learning-1.0.257 importlib-metadata-5.0.0 zipp-3.10.0\n"
     ]
    }
   ],
   "source": [
    "!pip install ibm_watson_machine_learning"
   ]
  },
  {
   "cell_type": "code",
   "execution_count": 4,
   "id": "d51d791f",
   "metadata": {},
   "outputs": [
    {
     "name": "stderr",
     "output_type": "stream",
     "text": [
      "C:\\Users\\SUVI\\AppData\\Local\\Programs\\Python\\Python310\\lib\\site-packages\\tqdm\\auto.py:22: TqdmWarning: IProgress not found. Please update jupyter and ipywidgets. See https://ipywidgets.readthedocs.io/en/stable/user_install.html\n",
      "  from .autonotebook import tqdm as notebook_tqdm\n"
     ]
    }
   ],
   "source": [
    "from ibm_watson_machine_learning import APIClient\n",
    "wml_credentials ={\n",
    "    \"url\": \"https://us-south.ml.cloud.ibm.com\",\n",
    "    \"apikey\": \"Hdvw0ignZYYKr51W7IXQrB5S5mFLzABe5u1kGFcRACAJ\"\n",
    "}\n",
    "client = APIClient(wml_credentials)"
   ]
  },
  {
   "cell_type": "code",
   "execution_count": 5,
   "id": "970a0976",
   "metadata": {},
   "outputs": [],
   "source": [
    "def guid_from_space_name(client, space_name):\n",
    "    space=client.spaces.get_details()\n",
    "    return(next(item for item in space['resources'] if item['entity'][\"name\"] == space_name)['metadata']['id'])"
   ]
  },
  {
   "cell_type": "code",
   "execution_count": 6,
   "id": "bf766a21",
   "metadata": {},
   "outputs": [
    {
     "name": "stdout",
     "output_type": "stream",
     "text": [
      "Space UID = 4450ba15-2813-4438-b303-6bb769f9b92e\n"
     ]
    }
   ],
   "source": [
    "space_uid=guid_from_space_name(client,'ImageClassification')\n",
    "print(\"Space UID = \"+space_uid)"
   ]
  },
  {
   "cell_type": "code",
   "execution_count": 7,
   "id": "f7715cda",
   "metadata": {},
   "outputs": [
    {
     "data": {
      "text/plain": [
       "'SUCCESS'"
      ]
     },
     "execution_count": 7,
     "metadata": {},
     "output_type": "execute_result"
    }
   ],
   "source": [
    "client.set.default_space(space_uid)"
   ]
  },
  {
   "cell_type": "code",
   "execution_count": 8,
   "id": "4323ba4b",
   "metadata": {},
   "outputs": [
    {
     "name": "stdout",
     "output_type": "stream",
     "text": [
      "Successfully saved model content to file: 'digit-rec-model_download.tgz'\n"
     ]
    },
    {
     "data": {
      "text/plain": [
       "'D:\\\\Suvi\\\\Sem7\\\\IBM\\\\Project Development Phase\\\\Sprint 4/digit-rec-model_download.tgz'"
      ]
     },
     "execution_count": 8,
     "metadata": {},
     "output_type": "execute_result"
    }
   ],
   "source": [
    "client.repository.download('81900656-bdb2-4bdf-a1ad-2caa9058565a', \"digit-rec-model_download.tgz\")"
   ]
  },
  {
   "cell_type": "code",
   "execution_count": null,
   "id": "4da91198",
   "metadata": {},
   "outputs": [],
   "source": []
  }
 ],
 "metadata": {
  "kernelspec": {
   "display_name": "Python 3 (ipykernel)",
   "language": "python",
   "name": "python3"
  },
  "language_info": {
   "codemirror_mode": {
    "name": "ipython",
    "version": 3
   },
   "file_extension": ".py",
   "mimetype": "text/x-python",
   "name": "python",
   "nbconvert_exporter": "python",
   "pygments_lexer": "ipython3",
   "version": "3.10.4"
  }
 },
 "nbformat": 4,
 "nbformat_minor": 5
}
